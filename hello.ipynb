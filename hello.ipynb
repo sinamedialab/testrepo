{
  "nbformat": 4,
  "nbformat_minor": 0,
  "metadata": {
    "colab": {
      "provenance": [],
      "authorship_tag": "ABX9TyM7Toy7NnJ+/wcS0zEm/MTH",
      "include_colab_link": true
    },
    "kernelspec": {
      "name": "python3",
      "display_name": "Python 3"
    },
    "language_info": {
      "name": "python"
    }
  },
  "cells": [
    {
      "cell_type": "markdown",
      "metadata": {
        "id": "view-in-github",
        "colab_type": "text"
      },
      "source": [
        "<a href=\"https://colab.research.google.com/github/sinamedialab/testrepo/blob/main/hello.ipynb\" target=\"_parent\"><img src=\"https://colab.research.google.com/assets/colab-badge.svg\" alt=\"Open In Colab\"/></a>"
      ]
    },
    {
      "cell_type": "code",
      "source": [
        "2 ** 10"
      ],
      "metadata": {
        "id": "8GVYPA31m59i",
        "outputId": "c572833b-d0a1-4c24-bed1-d0c2d739ce46",
        "colab": {
          "base_uri": "https://localhost:8080/"
        }
      },
      "execution_count": 2,
      "outputs": [
        {
          "output_type": "execute_result",
          "data": {
            "text/plain": [
              "1024"
            ]
          },
          "metadata": {},
          "execution_count": 2
        }
      ]
    },
    {
      "cell_type": "markdown",
      "source": [
        "String Replication:"
      ],
      "metadata": {
        "id": "-cIluHP9nbde"
      }
    },
    {
      "cell_type": "code",
      "source": [
        "# String Replication: \n",
        "'Alice' * 5"
      ],
      "metadata": {
        "colab": {
          "base_uri": "https://localhost:8080/",
          "height": 35
        },
        "id": "82oc3o3TnVSV",
        "outputId": "0964f213-cf4b-4b68-f032-c0cd073d17ab"
      },
      "execution_count": 5,
      "outputs": [
        {
          "output_type": "execute_result",
          "data": {
            "text/plain": [
              "'AliceAliceAliceAliceAlice'"
            ],
            "application/vnd.google.colaboratory.intrinsic+json": {
              "type": "string"
            }
          },
          "metadata": {},
          "execution_count": 5
        }
      ]
    },
    {
      "cell_type": "code",
      "execution_count": 6,
      "metadata": {
        "id": "-QryNre8mboh",
        "colab": {
          "base_uri": "https://localhost:8080/"
        },
        "outputId": "566ceb2f-d8ea-47a0-a8f2-c7f4f4a14759"
      },
      "outputs": [
        {
          "output_type": "stream",
          "name": "stdout",
          "text": [
            "printed-with-a-dash-in-between-"
          ]
        }
      ],
      "source": [
        "phrase = ['printed', 'with', 'a', 'dash', 'in', 'between']\n",
        "for word in phrase:\n",
        "  print(word, end='-')"
      ]
    },
    {
      "cell_type": "code",
      "source": [
        "print('What is your name?') \n",
        "my_name = input()\n",
        "print('Hi, {}'.format(my_name))"
      ],
      "metadata": {
        "colab": {
          "base_uri": "https://localhost:8080/"
        },
        "id": "PcF5YHRIoST6",
        "outputId": "7317cff4-74a7-4672-e405-86f9c8b2baac"
      },
      "execution_count": 7,
      "outputs": [
        {
          "output_type": "stream",
          "name": "stdout",
          "text": [
            "What is your name?\n",
            "Ghassem\n",
            "Hi, Ghassem\n"
          ]
        }
      ]
    },
    {
      "cell_type": "markdown",
      "source": [],
      "metadata": {
        "id": "e0YGHE2ko4f_"
      }
    },
    {
      "cell_type": "code",
      "source": [
        "print(\"Python is fun!\")\n",
        "\n",
        "print('Always look on the bright side of life')"
      ],
      "metadata": {
        "colab": {
          "base_uri": "https://localhost:8080/"
        },
        "id": "bbdQkqoro06O",
        "outputId": "5a4ab093-3736-4cd2-c3a4-4724aec8377a"
      },
      "execution_count": 8,
      "outputs": [
        {
          "output_type": "stream",
          "name": "stdout",
          "text": [
            "Python is fun!\n",
            "Always look on the bright side of life\n"
          ]
        }
      ]
    },
    {
      "cell_type": "code",
      "source": [
        "print(\"\"\"this\n",
        "is a\n",
        "multiline\n",
        "text\"\"\") "
      ],
      "metadata": {
        "colab": {
          "base_uri": "https://localhost:8080/"
        },
        "id": "htSg6DpdpA1M",
        "outputId": "5a1d6997-5c91-483d-d7d1-e2a006b7f62c"
      },
      "execution_count": 9,
      "outputs": [
        {
          "output_type": "stream",
          "name": "stdout",
          "text": [
            "this\n",
            "is a\n",
            "multiline\n",
            "text\n"
          ]
        }
      ]
    },
    {
      "cell_type": "markdown",
      "source": [
        "# **Hello This is My text**\n",
        "\n",
        "1.   List item\n",
        "2.   List item\n",
        "\n"
      ],
      "metadata": {
        "id": "BuChGTzYmd3P"
      }
    },
    {
      "cell_type": "code",
      "source": [],
      "metadata": {
        "id": "06o0cK8Gmnkm"
      },
      "execution_count": null,
      "outputs": []
    }
  ]
}